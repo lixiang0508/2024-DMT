{
 "cells": [
  {
   "cell_type": "code",
   "execution_count": 1,
   "metadata": {},
   "outputs": [],
   "source": [
    "import pandas as pd\n",
    "import numpy as np\n",
    "from datetime import timedelta\n",
    "import matplotlib.pyplot as plt"
   ]
  },
  {
   "cell_type": "code",
   "execution_count": 2,
   "metadata": {},
   "outputs": [
    {
     "data": {
      "text/plain": [
       "(         time       id  start_date    end_date  activity  circumplex.arousal  \\\n",
       " 0  2014-03-26  AS14.01  2014-03-19  2014-03-26  0.108532            0.033333   \n",
       " 1  2014-03-27  AS14.01  2014-03-20  2014-03-27  0.134520            0.066667   \n",
       " 2  2014-03-29  AS14.01  2014-03-22  2014-03-29  0.109674            0.066667   \n",
       " 3  2014-03-30  AS14.01  2014-03-23  2014-03-30  0.092269           -0.033333   \n",
       " 4  2014-03-31  AS14.01  2014-03-24  2014-03-31  0.062600           -0.100000   \n",
       " \n",
       "    circumplex.valence        screen  appCat.builtin  appCat.communication  \\\n",
       " 0            0.655556   8491.192334      900.907333           5464.767000   \n",
       " 1            0.733333  13546.594334     1227.690000           7054.194667   \n",
       " 2            0.800000  14062.857666     1449.818000           6215.319000   \n",
       " 3            0.850000  10095.995333     1198.774000           3651.903000   \n",
       " 4            0.783333   8227.556667     1776.133333           3117.278000   \n",
       " \n",
       "    appCat.main  appCat.tools  appCat.contact      mood  mood_label  \n",
       " 0  2584.014667    113.916667        1.666667  6.655556         7.0  \n",
       " 1  2797.615667    183.011000        2.333333  6.800000         8.0  \n",
       " 2  3151.525333    412.801333        3.444444  7.200000         8.0  \n",
       " 3  1867.689667    428.772333        4.500000  7.500000         7.0  \n",
       " 4  2335.228333    564.324000        5.500000  7.633333         6.0  ,\n",
       " Index(['time', 'id', 'start_date', 'end_date', 'activity',\n",
       "        'circumplex.arousal', 'circumplex.valence', 'screen', 'appCat.builtin',\n",
       "        'appCat.communication', 'appCat.main', 'appCat.tools', 'appCat.contact',\n",
       "        'mood', 'mood_label'],\n",
       "       dtype='object'))"
      ]
     },
     "execution_count": 2,
     "metadata": {},
     "output_type": "execute_result"
    }
   ],
   "source": [
    "import pandas as pd\n",
    "\n",
    "# load the data\n",
    "data_path = 'data/aggregate_data.csv'\n",
    "data = pd.read_csv(data_path)\n",
    "\n",
    "# show the first few rows and the columns\n",
    "data.head(), data.columns"
   ]
  },
  {
   "cell_type": "code",
   "execution_count": 3,
   "metadata": {},
   "outputs": [],
   "source": [
    "from business_calendar import Calendar, MO, TU, WE, TH, FR\n",
    "cal = Calendar(workdays=[MO,TU,WE,TH,FR])"
   ]
  },
  {
   "cell_type": "code",
   "execution_count": 4,
   "metadata": {},
   "outputs": [],
   "source": [
    "def is_working_day(date):\n",
    "    if cal.isbusday(date):\n",
    "        return True\n",
    "    else:\n",
    "        return False"
   ]
  },
  {
   "cell_type": "code",
   "execution_count": 5,
   "metadata": {},
   "outputs": [],
   "source": [
    "data['is_working_day'] = data['time'].map(is_working_day) # add a feature :  if a date is working day"
   ]
  },
  {
   "cell_type": "code",
   "execution_count": 6,
   "metadata": {},
   "outputs": [
    {
     "data": {
      "text/plain": [
       "Index(['time', 'id', 'start_date', 'end_date', 'activity',\n",
       "       'circumplex.arousal', 'circumplex.valence', 'screen', 'appCat.builtin',\n",
       "       'appCat.communication', 'appCat.main', 'appCat.tools', 'appCat.contact',\n",
       "       'mood', 'mood_label', 'is_working_day'],\n",
       "      dtype='object')"
      ]
     },
     "execution_count": 6,
     "metadata": {},
     "output_type": "execute_result"
    }
   ],
   "source": [
    "data.columns"
   ]
  },
  {
   "cell_type": "code",
   "execution_count": 18,
   "metadata": {},
   "outputs": [],
   "source": [
    "from sklearn.model_selection import train_test_split\n",
    "from sklearn.linear_model import Ridge\n",
    "from sklearn.metrics import mean_squared_error, mean_absolute_error\n",
    "from sklearn.preprocessing import StandardScaler\n",
    "import xgboost as xgb"
   ]
  },
  {
   "cell_type": "code",
   "execution_count": 8,
   "metadata": {},
   "outputs": [],
   "source": [
    "X = data[[\"activity\", \"circumplex.arousal\", \"circumplex.valence\", \"screen\", \"appCat.builtin\",\n",
    "         \"appCat.communication\", \"appCat.main\", \"appCat.tools\", \"appCat.contact\", \"mood\", \"is_working_day\"]]\n",
    "y = data[\"mood_label\"]"
   ]
  },
  {
   "cell_type": "code",
   "execution_count": 9,
   "metadata": {},
   "outputs": [],
   "source": [
    "X_train, X_test, y_train, y_test = train_test_split(X,y,test_size=0.3,random_state=0)"
   ]
  },
  {
   "cell_type": "code",
   "execution_count": 25,
   "metadata": {},
   "outputs": [
    {
     "name": "stdout",
     "output_type": "stream",
     "text": [
      "Mean Squared Error: 0.46222111459391196\n",
      "Mean Absolute Error: 0.4956441703616388\n"
     ]
    }
   ],
   "source": [
    "#below is ridge regression\n",
    "# Scale the features\n",
    "scaler = StandardScaler()\n",
    "X_train_scaled = scaler.fit_transform(X_train)\n",
    "X_test_scaled = scaler.transform(X_test)\n",
    "\n",
    "# Create and train the Ridge Regression model\n",
    "ridge = Ridge(alpha=1.0)  # Adjust the regularization strength (alpha)\n",
    "ridge.fit(X_train_scaled, y_train)\n",
    "\n",
    "# Predict on the test set\n",
    "y_pred = ridge.predict(X_test_scaled)\n",
    "\n",
    "# Calculate Mean Squared Error\n",
    "mse = mean_squared_error(y_test, y_pred)\n",
    "print(\"Mean Squared Error:\", mse)\n",
    "#Calculate mean absolute error\n",
    "mae = mean_absolute_error(y_test, y_pred)\n",
    "print(\"Mean Absolute Error:\", mae)"
   ]
  },
  {
   "cell_type": "code",
   "execution_count": 20,
   "metadata": {},
   "outputs": [
    {
     "name": "stdout",
     "output_type": "stream",
     "text": [
      "Mean Squared Error: 0.4694539489080769\n",
      "Mean Absolute Error: 0.4963770742001741\n"
     ]
    }
   ],
   "source": [
    "#below is xgboost\n",
    "# Create DMatrix for XGBoost\n",
    "dtrain = xgb.DMatrix(X_train, label=y_train)\n",
    "dtest = xgb.DMatrix(X_test, label=y_test)\n",
    "\n",
    "# Parameters for XGBoost\n",
    "params = {\n",
    "    'objective': 'reg:squarederror',  # Regression task\n",
    "    'colsample_bytree': 0.8,           # Subsample ratio of columns\n",
    "    'learning_rate': 0.1,              # Step size shrinkage used in update to prevent overfitting\n",
    "    'max_depth': 5,                    # Maximum depth of a tree\n",
    "    'alpha': 10,                       # L1 regularization term on weights\n",
    "    'lambda': 1                        # L2 regularization term on weights\n",
    "}\n",
    "\n",
    "# Train the XGBoost model\n",
    "num_round = 100  # Number of boosting rounds\n",
    "bst = xgb.train(params, dtrain, num_round)\n",
    "\n",
    "# Make predictions on the test set\n",
    "y_pred2 = bst.predict(dtest)\n",
    "\n",
    "# Calculate Mean Squared Error and Mean Absolute Error\n",
    "mse2 = mean_squared_error(y_test, y_pred2)\n",
    "print(\"Mean Squared Error:\", mse2)\n",
    "mae2 = mean_absolute_error(y_test, y_pred2)\n",
    "print(\"Mean Absolute Error:\", mae2)"
   ]
  },
  {
   "cell_type": "code",
   "execution_count": 17,
   "metadata": {},
   "outputs": [
    {
     "data": {
      "image/png": "[encoded data removed]",
      "text/plain": [
       "<Figure size 640x480 with 1 Axes>"
      ]
     },
     "metadata": {},
     "output_type": "display_data"
    }
   ],
   "source": [
    "xgb.plot_importance(bst, height=0.5, title=\"Feature Importance (XGBoost)\", importance_type=\"gain\", show_values=False)\n",
    "plt.show()"
   ]
  },
  {
   "cell_type": "code",
   "execution_count": 14,
   "metadata": {},
   "outputs": [
    {
     "name": "stdout",
     "output_type": "stream",
     "text": [
      "              precision    recall  f1-score   support\n",
      "\n",
      "         4.0       0.00      0.00      0.00         0\n",
      "         5.0       0.00      0.00      0.00         0\n",
      "         6.0       0.26      0.67      0.38        15\n",
      "         7.0       0.94      0.59      0.72       160\n",
      "         8.0       0.15      0.67      0.24         9\n",
      "         9.0       0.00      0.00      0.00         0\n",
      "\n",
      "    accuracy                           0.60       184\n",
      "   macro avg       0.22      0.32      0.22       184\n",
      "weighted avg       0.85      0.60      0.67       184\n",
      "\n"
     ]
    },
    {
     "name": "stderr",
     "output_type": "stream",
     "text": [
      "d:\\anaconda\\lib\\site-packages\\sklearn\\metrics\\_classification.py:1469: UndefinedMetricWarning: Recall and F-score are ill-defined and being set to 0.0 in labels with no true samples. Use `zero_division` parameter to control this behavior.\n",
      "  _warn_prf(average, modifier, msg_start, len(result))\n",
      "d:\\anaconda\\lib\\site-packages\\sklearn\\metrics\\_classification.py:1469: UndefinedMetricWarning: Recall and F-score are ill-defined and being set to 0.0 in labels with no true samples. Use `zero_division` parameter to control this behavior.\n",
      "  _warn_prf(average, modifier, msg_start, len(result))\n",
      "d:\\anaconda\\lib\\site-packages\\sklearn\\metrics\\_classification.py:1469: UndefinedMetricWarning: Recall and F-score are ill-defined and being set to 0.0 in labels with no true samples. Use `zero_division` parameter to control this behavior.\n",
      "  _warn_prf(average, modifier, msg_start, len(result))\n"
     ]
    }
   ],
   "source": [
    "from sklearn.metrics import classification_report\n",
    "y_pred_classes = np.round(y_pred)\n",
    "print(classification_report(y_pred_classes, y_test))"
   ]
  },
  {
   "cell_type": "code",
   "execution_count": 15,
   "metadata": {},
   "outputs": [
    {
     "name": "stdout",
     "output_type": "stream",
     "text": [
      "              precision    recall  f1-score   support\n",
      "\n",
      "         4.0       0.00      0.00      0.00         0\n",
      "         5.0       0.00      0.00      0.00         0\n",
      "         6.0       0.26      0.67      0.38        15\n",
      "         7.0       0.94      0.59      0.72       160\n",
      "         8.0       0.15      0.67      0.24         9\n",
      "         9.0       0.00      0.00      0.00         0\n",
      "\n",
      "    accuracy                           0.60       184\n",
      "   macro avg       0.22      0.32      0.22       184\n",
      "weighted avg       0.85      0.60      0.67       184\n",
      "\n"
     ]
    },
    {
     "name": "stderr",
     "output_type": "stream",
     "text": [
      "d:\\anaconda\\lib\\site-packages\\sklearn\\metrics\\_classification.py:1469: UndefinedMetricWarning: Recall and F-score are ill-defined and being set to 0.0 in labels with no true samples. Use `zero_division` parameter to control this behavior.\n",
      "  _warn_prf(average, modifier, msg_start, len(result))\n",
      "d:\\anaconda\\lib\\site-packages\\sklearn\\metrics\\_classification.py:1469: UndefinedMetricWarning: Recall and F-score are ill-defined and being set to 0.0 in labels with no true samples. Use `zero_division` parameter to control this behavior.\n",
      "  _warn_prf(average, modifier, msg_start, len(result))\n",
      "d:\\anaconda\\lib\\site-packages\\sklearn\\metrics\\_classification.py:1469: UndefinedMetricWarning: Recall and F-score are ill-defined and being set to 0.0 in labels with no true samples. Use `zero_division` parameter to control this behavior.\n",
      "  _warn_prf(average, modifier, msg_start, len(result))\n"
     ]
    }
   ],
   "source": [
    "y_pred_classes2 = np.round(y_pred)\n",
    "print(classification_report(y_pred_classes2, y_test))"
   ]
  },
  {
   "cell_type": "code",
   "execution_count": null,
   "metadata": {},
   "outputs": [],
   "source": []
  }
 ],
 "metadata": {
  "kernelspec": {
   "display_name": "docc",
   "language": "python",
   "name": "python3"
  },
  "language_info": {
   "codemirror_mode": {
    "name": "ipython",
    "version": 3
   },
   "file_extension": ".py",
   "mimetype": "text/x-python",
   "name": "python",
   "nbconvert_exporter": "python",
   "pygments_lexer": "ipython3",
   "version": "3.9.19"
  }
 },
 "nbformat": 4,
 "nbformat_minor": 2
}
